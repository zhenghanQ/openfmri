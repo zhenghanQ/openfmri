{
 "cells": [
  {
   "cell_type": "code",
   "execution_count": 1,
   "metadata": {
    "collapsed": false,
    "deletable": true,
    "editable": true
   },
   "outputs": [],
   "source": [
    "#!/om/user/zqi/projects/CASL/Results/Imaging/openfmri/\n",
    "\n",
    "import re\n",
    "import os\n",
    "import sys\n",
    "from glob import glob\n",
    "\n",
    "rootdir='/om/user/zqi/projects/CASL/Results/Imaging/openfmri/'\n",
    "#get list of folders in rootdir\n",
    "#list_items=os.listdir(rootdir)\n",
    "list_items= [dI for dI in os.listdir(rootdir) if os.path.isdir(os.path.join(rootdir,dI))]"
   ]
  },
  {
   "cell_type": "code",
   "execution_count": 2,
   "metadata": {
    "collapsed": false,
    "deletable": true,
    "editable": true,
    "scrolled": true
   },
   "outputs": [
    {
     "name": "stdout",
     "output_type": "stream",
     "text": [
      "['CASL13109', 'CASL13128', 'qc', 'CASL13115', 'CASL13113', 'CASL13103', 'CASL13108', 'testagain', 'CASL13114', 'CASL13106', 'CASL13107', 'CASL13111', 'CASL13119', 'CASL13110', 'CASL13118', 'CASL13125', 'CASL13104', 'code', 'CASL13122', 'CASL13130', 'CASL13102', 'CASL13123', 'CASL13131', '.ipynb_checkpoints', 'CASL13112', 'CASL13132', 'CASL13124', 'l1output', 'CASL13117', 'CASL13121', 'CASL13101', 'CASL13105', 'CASL13120', 'CASL13100', 'CASL13129', 'CASL13126', 'CASL13116']\n"
     ]
    }
   ],
   "source": [
    "len(list_items)\n",
    "print(list_items)"
   ]
  },
  {
   "cell_type": "code",
   "execution_count": 3,
   "metadata": {
    "collapsed": false,
    "deletable": true,
    "editable": true
   },
   "outputs": [],
   "source": [
    "#regex for CASL131xx\n",
    "regexCASL131=re.compile(\"^CASL131(?P<index>\\d\\d)\")\n",
    "regexCASL132=re.compile(\"^CASL132(?P<index>\\d\\d)\")"
   ]
  },
  {
   "cell_type": "code",
   "execution_count": 4,
   "metadata": {
    "collapsed": false,
    "deletable": true,
    "editable": true
   },
   "outputs": [],
   "source": [
    "for item in list_items:\n",
    "    if re.match(regexCASL131,item):\n",
    "        os.rename(rootdir+item, rootdir+'sub-'+item)"
   ]
  },
  {
   "cell_type": "code",
   "execution_count": 7,
   "metadata": {
    "collapsed": false,
    "deletable": true,
    "editable": true
   },
   "outputs": [
    {
     "name": "stdout",
     "output_type": "stream",
     "text": [
      "/om/user/zqi/projects/CASL/Results/Imaging/openfmri/sub-CASL13100\n"
     ]
    }
   ],
   "source": [
    "item='CASL13100'\n",
    "re.match(regexCASL131,item)\n",
    "print(rootdir+'sub-'+item)"
   ]
  },
  {
   "cell_type": "code",
   "execution_count": null,
   "metadata": {
    "collapsed": true,
    "deletable": true,
    "editable": true
   },
   "outputs": [],
   "source": []
  }
 ],
 "metadata": {
  "kernelspec": {
   "display_name": "Python 2",
   "language": "python",
   "name": "python2"
  },
  "language_info": {
   "codemirror_mode": {
    "name": "ipython",
    "version": 2
   },
   "file_extension": ".py",
   "mimetype": "text/x-python",
   "name": "python",
   "nbconvert_exporter": "python",
   "pygments_lexer": "ipython2",
   "version": "2.7.12"
  }
 },
 "nbformat": 4,
 "nbformat_minor": 2
}
