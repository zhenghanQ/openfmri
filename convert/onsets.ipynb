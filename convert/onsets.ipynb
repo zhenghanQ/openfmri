{
 "cells": [
  {
   "cell_type": "code",
   "execution_count": 1,
   "metadata": {
    "collapsed": false,
    "deletable": true,
    "editable": true
   },
   "outputs": [],
   "source": [
    "import os\n",
    "from glob import glob\n",
    "from csv import reader, writer\n",
    "import numpy as np"
   ]
  },
  {
   "cell_type": "code",
   "execution_count": 7,
   "metadata": {
    "collapsed": false,
    "deletable": true,
    "editable": true
   },
   "outputs": [
    {
     "name": "stdout",
     "output_type": "stream",
     "text": [
      "['CASL13100', 'CASL13101', 'CASL13102', 'CASL13102_DTI', 'CASL13103', 'CASL13104', 'CASL13105', 'CASL13106', 'CASL13107', 'CASL13108', 'CASL13109', 'CASL13110', 'CASL13111', 'CASL13112', 'CASL13113', 'CASL13114', 'CASL13115', 'CASL13116', 'CASL13117', 'CASL13118', 'CASL13119', 'CASL13120', 'CASL13121', 'CASL13122', 'CASL13123', 'CASL13124', 'CASL13125', 'CASL13126', 'CASL13128', 'CASL13129', 'CASL13129A', 'CASL13130', 'CASL13131', 'CASL13132', 'CASL13200', 'CASL13201', 'CASL13202', 'CASL13204', 'CASL13206', 'CASL13207', 'CASL13208', 'CASL13209', 'CASL13210', 'CASL13211', 'CASL13212', 'CASL13214', 'CASL13216', 'CASL13217', 'CASL13218', 'CASL13219', 'CASL13220', 'CASL13221', 'CASL13222', 'CASL13223', 'CASL13224', 'CASL13225', 'CASL13226', 'CASL13228', 'CASL13230']\n"
     ]
    }
   ],
   "source": [
    "csv_path='/om/user/zqi/projects/CASL/Results/Beh/sent/pylog'\n",
    "data_dir='/om/user/cdla/projects/casl/openfmri/'\n",
    "#data_dir='/Users/cdla/Desktop/openfmri/'\n",
    "subj_list=sorted([os.path.basename(x) for x in glob(os.path.join(data_dir,'CASL*'))])\n",
    "print subj_list\n"
   ]
  },
  {
   "cell_type": "code",
   "execution_count": 12,
   "metadata": {
    "collapsed": false,
    "deletable": true,
    "editable": true,
    "scrolled": true
   },
   "outputs": [
    {
     "name": "stdout",
     "output_type": "stream",
     "text": [
      "CASL13226\n",
      "CASL13226 3\n",
      "CASL13226 4\n"
     ]
    }
   ],
   "source": [
    "for subj in subj_list:\n",
    "    print subj\n",
    "    if subj[-3]=='1':\n",
    "        for run in range(1,3):\n",
    "            try:\n",
    "                csv=sorted(glob(os.path.join(csv_path,subj[-5:]+'_fMRI_sent_run%d*.log'%run)))[-1]\n",
    "                print csv\n",
    "                log_data=np.genfromtxt(csv,delimiter='\\t',dtype='str')\n",
    "                #trigger_time=float([row[0] for row in log_data if row[2]=='Keypress: num_add'][0])\n",
    "                onset_times=[float(row[0]) for row in log_data if row[2]=='Sound  started']\n",
    "                onset_conditions=[row[2] for row in log_data if 'sound=/' in row[2]]\n",
    "                onsets=[[],[],[]]\n",
    "                for idx,trial in enumerate(onset_conditions):\n",
    "                    if 'silly' in trial:\n",
    "                        onsets[0].append(onset_times[idx])\n",
    "                    elif 'mandarin' in trial:\n",
    "                        onsets[1].append(onset_times[idx])\n",
    "                    elif 'english' in trial:\n",
    "                        onsets[2].append(onset_times[idx])\n",
    "                onset_dir=data_dir+ '/%s/model/model001/onsets/task001_run%03d'%(subj,run)\n",
    "                if not os.path.exists(onset_dir):\n",
    "                    os.makedirs(onset_dir)\n",
    "                for idx,condition in enumerate(['mal','mandarin','english']):\n",
    "                    print os.path.join(onset_dir,'cond%03d.txt'%(idx+1))\n",
    "                    with open(os.path.join(onset_dir,'cond%03d.txt'%(idx+1)),'wb') as csvfile:\n",
    "                        onset_writer=writer(csvfile,delimiter='\\t')\n",
    "                        for onset in onsets[idx]:\n",
    "                            onset_writer.writerow(['%.1f'%onset,'%.1f'%3,'%.1f'%1])\n",
    "            except:\n",
    "                continue\n",
    "    elif subj[-3]=='2':\n",
    "        for run in range(3,5):\n",
    "            try:\n",
    "                csv=sorted(glob(os.path.join(csv_path,'131'+subj[-2:]+'_fMRI_sent_run%d*.log'%run)))[-1]\n",
    "                log_data=np.genfromtxt(csv,delimiter='\\t',dtype='str')\n",
    "                #trigger_time=float([row[0] for row in log_data if row[2]=='Keypress: num_add'][0])\n",
    "                onset_times=[float(row[0]) for row in log_data if row[2]=='Sound  started']\n",
    "                onset_conditions=[row[2] for row in log_data if 'sound=/' in row[2]]\n",
    "                onsets=[[],[],[]]\n",
    "                print subj,run\n",
    "                for idx,trial in enumerate(onset_conditions):\n",
    "                    if 'silly' in trial:\n",
    "                        onsets[0].append(onset_times[idx])\n",
    "                    elif 'mandarin' in trial:\n",
    "                        onsets[1].append(onset_times[idx])\n",
    "                    elif 'english' in trial:\n",
    "                        onsets[2].append(onset_times[idx])\n",
    "                onset_dir=data_dir+'%s/model/model001/onsets/task001_run%03d'%(subj,run-2)\n",
    "                if not os.path.exists(onset_dir):\n",
    "                    os.makedirs(onset_dir)\n",
    "                for idx,condition in enumerate(['mal','mandarin','english']):\n",
    "                    with open(os.path.join(onset_dir,'cond%03d.txt'%(idx+1)),'wb') as csvfile:\n",
    "                        onset_writer=writer(csvfile,delimiter='\\t')\n",
    "                        for onset in onsets[idx]:\n",
    "                            onset_writer.writerow(['%.1f'%onset,'%.1f'%3,'%.1f'%1])\n",
    "            except:\n",
    "                continue"
   ]
  },
  {
   "cell_type": "code",
   "execution_count": 8,
   "metadata": {
    "collapsed": false,
    "deletable": true,
    "editable": true
   },
   "outputs": [
    {
     "name": "stdout",
     "output_type": "stream",
     "text": [
      "CASL13226\n"
     ]
    }
   ],
   "source": [
    "for subj in subj_list:\n",
    "    print subj\n",
    "    if subj[-3]=='1':\n",
    "        for run in range(1,3):\n",
    "            try:\n",
    "                csv=sorted(glob(os.path.join(csv_path,subj[-5:]+'_fMRI_sent_run%d*.log'%run)))[-1]\n",
    "                log_data=np.genfromtxt(csv,delimiter='\\t',dtype='str')\n",
    "                #trigger_time=float([row[0] for row in log_data if row[2]=='Keypress: num_add'][0])\n",
    "                onset_times=[float(row[0]) for row in log_data if row[2]=='Sound  started']\n",
    "                onset_conditions=[row[2] for row in log_data if 'sound=/' in row[2]]\n",
    "                onsets=[[],[],[]]\n",
    "                behav=sorted(glob(os.path.join(csv_path,'..',subj[-5:]+'_fMRI_sent_run%d*.csv'%run)))[-1]\n",
    "                behav_data=np.genfromtxt(behav,delimiter='\\t',dtype='str')\n",
    "                corr_ans=[int(row[11]) for row in behav_data[1:] if row[7] != 'rest']\n",
    "                for idx,trial in enumerate(onset_conditions):\n",
    "                    if 'silly' in trial:\n",
    "                        if corr_ans[idx]==1:\n",
    "                            onsets[0].append(onset_times[idx])\n",
    "                    elif 'mandarin' in trial:\n",
    "                        if corr_ans[idx]==1:\n",
    "                            onsets[1].append(onset_times[idx])\n",
    "                    elif 'english' in trial:\n",
    "                        if corr_ans[idx]==1:\n",
    "                            onsets[2].append(onset_times[idx])   \n",
    "                onset_dir=data_dir+ '/%s/model/model002/onsets/task001_run%03d'%(subj,run)\n",
    "                if not os.path.exists(onset_dir):\n",
    "                    os.makedirs(onset_dir)\n",
    "                for idx,condition in enumerate(['mal','mandarin','english']):\n",
    "                    with open(os.path.join(onset_dir,'cond%03d.txt'%(idx+1)),'wb') as csvfile:\n",
    "                        onset_writer=writer(csvfile,delimiter='\\t')\n",
    "                        for onset in onsets[idx]:\n",
    "                            onset_writer.writerow(['%.1f'%onset,'%.1f'%3,'%.1f'%1])\n",
    "            except:\n",
    "                continue\n",
    "    elif subj[-3]=='2':\n",
    "        for run in range(3,5):\n",
    "            try:\n",
    "                csv=sorted(glob(os.path.join(csv_path,'131'+subj[-2:]+'_fMRI_sent_run%d*.log'%run)))[-1]\n",
    "                log_data=np.genfromtxt(csv,delimiter='\\t',dtype='str')\n",
    "                #trigger_time=float([row[0] for row in log_data if row[2]=='Keypress: num_add'][0])\n",
    "                onset_times=[float(row[0]) for row in log_data if row[2]=='Sound  started']\n",
    "                onset_conditions=[row[2] for row in log_data if 'sound=/' in row[2]]\n",
    "                onsets=[[],[],[]]\n",
    "                behav=sorted(glob(os.path.join(csv_path,'..','131'+subj[-2:]+'_fMRI_sent_run%d*.csv'%run)))[-1]\n",
    "                behav_data=np.genfromtxt(behav,delimiter='\\t',dtype='str')\n",
    "                corr_ans=[int(row[11]) for row in behav_data[1:] if row[7] != 'rest']\n",
    "                for idx,trial in enumerate(onset_conditions):\n",
    "                    if 'silly' in trial:\n",
    "                        if corr_ans[idx]==1:\n",
    "                            onsets[0].append(onset_times[idx])\n",
    "                    elif 'mandarin' in trial:\n",
    "                        if corr_ans[idx]==1:\n",
    "                            onsets[1].append(onset_times[idx])\n",
    "                    elif 'english' in trial:\n",
    "                        if corr_ans[idx]==1:\n",
    "                            onsets[2].append(onset_times[idx])\n",
    "                \n",
    "                onset_dir=data_dir+'%s/model/model002/onsets/task001_run%03d'%(subj,run-2)\n",
    "                if not os.path.exists(onset_dir):\n",
    "                    os.makedirs(onset_dir)\n",
    "                for idx,condition in enumerate(['mal','mandarin','english']):\n",
    "                    with open(os.path.join(onset_dir,'cond%03d.txt'%(idx+1)),'wb') as csvfile:\n",
    "                        onset_writer=writer(csvfile,delimiter='\\t')\n",
    "                        for onset in onsets[idx]:\n",
    "                            onset_writer.writerow(['%.1f'%onset,'%.1f'%3,'%.1f'%1])\n",
    "            except:\n",
    "                continue"
   ]
  },
  {
   "cell_type": "code",
   "execution_count": null,
   "metadata": {
    "collapsed": true,
    "deletable": true,
    "editable": true
   },
   "outputs": [],
   "source": []
  }
 ],
 "metadata": {
  "kernelspec": {
   "display_name": "Python 2",
   "language": "python",
   "name": "python2"
  },
  "language_info": {
   "codemirror_mode": {
    "name": "ipython",
    "version": 2
   },
   "file_extension": ".py",
   "mimetype": "text/x-python",
   "name": "python",
   "nbconvert_exporter": "python",
   "pygments_lexer": "ipython2",
   "version": "2.7.12"
  }
 },
 "nbformat": 4,
 "nbformat_minor": 0
}
