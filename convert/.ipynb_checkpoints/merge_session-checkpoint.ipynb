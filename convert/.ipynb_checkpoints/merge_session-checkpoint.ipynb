{
 "cells": [
  {
   "cell_type": "code",
   "execution_count": 5,
   "metadata": {
    "collapsed": false,
    "deletable": true,
    "editable": true
   },
   "outputs": [],
   "source": [
    "#!/om/user/zqi/projects/CASL/Results/Imaging/openfmri/\n",
    "\n",
    "import re\n",
    "import os\n",
    "import sys\n",
    "from glob import glob\n",
    "\n",
    "rootdir='/om/user/zqi/projects/CASL/Results/Imaging/openfmri/'\n",
    "#get list of folders in rootdir\n",
    "#list_items=os.listdir(rootdir)\n",
    "list_items= [dI for dI in os.listdir(rootdir) if os.path.isdir(os.path.join(rootdir,dI))]"
   ]
  },
  {
   "cell_type": "code",
   "execution_count": 6,
   "metadata": {
    "collapsed": false,
    "deletable": true,
    "editable": true,
    "scrolled": true
   },
   "outputs": [
    {
     "name": "stdout",
     "output_type": "stream",
     "text": [
      "['CASL13217', 'CASL13109', 'CASL13201', 'CASL13128', 'qc', 'CASL13115', 'CASL13212', 'CASL13224', 'CASL13113', 'CASL13214', 'CASL13103', 'CASL13208', 'CASL13108', 'testagain', 'CASL13114', 'CASL13228', 'CASL13106', 'CASL13107', 'CASL13111', 'CASL13119', 'CASL13110', 'CASL13230', 'CASL13118', 'CASL13223', 'CASL13125', 'CASL13104', 'CASL13221', 'code', 'CASL13216', 'CASL13122', 'CASL13219', 'CASL13130', 'CASL13204', 'CASL13102', 'CASL13123', 'CASL13131', '.ipynb_checkpoints', 'CASL13218', 'CASL13112', 'CASL13132', 'CASL13210', 'CASL13211', 'CASL13124', 'l1output', 'CASL13202', 'CASL13117', 'CASL13121', 'CASL13206', 'CASL13101', 'CASL13105', 'CASL13207', 'CASL13226', 'CASL13120', 'CASL13200', 'CASL13209', 'CASL13100', 'CASL13225', 'CASL13129', 'CASL13126', 'CASL13116', 'CASL13220', 'CASL13222']\n"
     ]
    }
   ],
   "source": [
    "len(list_items)\n",
    "print(list_items)"
   ]
  },
  {
   "cell_type": "code",
   "execution_count": 7,
   "metadata": {
    "collapsed": false,
    "deletable": true,
    "editable": true
   },
   "outputs": [],
   "source": [
    "#regex for CASL131xx\n",
    "regexCASL131=re.compile(\"^CASL131(?P<index>\\d\\d)\")\n",
    "regexCASL132=re.compile(\"^CASL132(?P<index>\\d\\d)\")"
   ]
  },
  {
   "cell_type": "code",
   "execution_count": 9,
   "metadata": {
    "collapsed": false,
    "deletable": true,
    "editable": true
   },
   "outputs": [],
   "source": [
    "for item in list_items:\n",
    "    if re.match(regexCASL131,item):\n",
    "        m=re.search(regexCASL131,item)\n",
    "        index=m.group('index')\n",
    "        #process 131xx\n",
    "        pre_items=os.listdir(rootdir+item)\n",
    "        if not os.path.exists(rootdir+item+'/ses-pre'):\n",
    "            os.mkdir(rootdir+item+'/ses-pre')\n",
    "            for pi in pre_items:\n",
    "                os.rename(rootdir+item+'/'+pi, rootdir+item+'/ses-pre/'+pi)\n",
    "        pre_items_new=os.listdir(rootdir+item+'/ses-pre')\n",
    "        pre_name=(item+'_ses-pre')\n",
    "        for folder in pre_items_new:\n",
    "            file_list=os.listdir(rootdir+item+'/ses-pre/'+folder)\n",
    "            if not any(pre_name in s for s in file_list):\n",
    "                for fi in file_list:\n",
    "                    fi_new=fi.replace(item,pre_name)\n",
    "                    os.rename(rootdir+item+'/ses-pre/'+folder+'/'+fi,rootdir+item+'/ses-pre/'+folder+'/'+fi_new)\n",
    "        #process 132xx when applicable\n",
    "        post_dir=rootdir+\"CASL132{0}\".format(index)\n",
    "        id_post=(\"CASL132{0}\".format(index))\n",
    "        if os.path.exists(post_dir):\n",
    "            post_items=os.listdir(post_dir)\n",
    "            if not os.path.exists(rootdir+item+'/ses-post'):\n",
    "                os.mkdir(rootdir+item+'/ses-post')\n",
    "                for pi in post_items:\n",
    "                    os.rename(post_dir+'/'+pi, rootdir+item+'/ses-post/'+pi)\n",
    "            post_items_new=os.listdir(rootdir+item+'/ses-post')\n",
    "            post_name=(item+'_ses-post')\n",
    "            for folder in post_items_new:\n",
    "                file_list=os.listdir(rootdir+item+'/ses-post/'+folder)\n",
    "                if not any(post_name in s for s in file_list):\n",
    "                    for fi in file_list:\n",
    "                        fi_new=fi.replace(id_post,post_name)\n",
    "                        os.rename(rootdir+item+'/ses-post/'+folder+'/'+fi,rootdir+item+'/ses-post/'+folder+'/'+fi_new)"
   ]
  },
  {
   "cell_type": "code",
   "execution_count": null,
   "metadata": {
    "collapsed": true,
    "deletable": true,
    "editable": true
   },
   "outputs": [],
   "source": []
  }
 ],
 "metadata": {
  "kernelspec": {
   "display_name": "Python 2",
   "language": "python",
   "name": "python2"
  },
  "language_info": {
   "codemirror_mode": {
    "name": "ipython",
    "version": 2
   },
   "file_extension": ".py",
   "mimetype": "text/x-python",
   "name": "python",
   "nbconvert_exporter": "python",
   "pygments_lexer": "ipython2",
   "version": "2.7.12"
  }
 },
 "nbformat": 4,
 "nbformat_minor": 2
}
